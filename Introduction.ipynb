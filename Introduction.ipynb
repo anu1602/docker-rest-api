{
 "cells": [
  {
   "cell_type": "markdown",
   "metadata": {},
   "source": [
    "# Docker"
   ]
  },
  {
   "cell_type": "code",
   "execution_count": null,
   "metadata": {},
   "outputs": [],
   "source": [
    "\n",
    "      Docker is the world’s leading software container platform.\n",
    "         or \n",
    "      Docker is container platform."
   ]
  },
  {
   "cell_type": "code",
   "execution_count": null,
   "metadata": {},
   "outputs": [],
   "source": [
    "Docker makes the process of application deployment very easy and efficient and\n",
    "resolves a lot of issues related to deploying applications.\n",
    "\n",
    "Docker is a tool designed to make it easier to deploy and run applications by using containers."
   ]
  },
  {
   "cell_type": "code",
   "execution_count": null,
   "metadata": {},
   "outputs": [],
   "source": [
    " Docker gives you a standard way of packaging your application with all its dependencies in a container"
   ]
  },
  {
   "cell_type": "code",
   "execution_count": null,
   "metadata": {},
   "outputs": [],
   "source": [
    "Containers allow a developer to package up an application with all of the parts it needs,\n",
    "such as libraries and other dependencies, and ship it all out as one package. "
   ]
  },
  {
   "cell_type": "code",
   "execution_count": null,
   "metadata": {},
   "outputs": [],
   "source": [
    "## Command\n",
    "\n",
    "sudo docker"
   ]
  },
  {
   "cell_type": "code",
   "execution_count": null,
   "metadata": {},
   "outputs": [],
   "source": [
    "## This command displays system-wide information.\n",
    "\n",
    "sudo docker info\n"
   ]
  },
  {
   "cell_type": "code",
   "execution_count": null,
   "metadata": {},
   "outputs": [],
   "source": [
    "## Output\n",
    "\n",
    "Server:\n",
    " Containers: 5\n",
    "  Running: 4\n",
    "  Paused: 0\n",
    "  Stopped: 1\n",
    " Images: 50\n",
    " Server Version: 19.03.10\n"
   ]
  },
  {
   "cell_type": "markdown",
   "metadata": {},
   "source": [
    "## How Docker Works ?"
   ]
  },
  {
   "cell_type": "code",
   "execution_count": 1,
   "metadata": {},
   "outputs": [
    {
     "data": {
      "text/html": [
       "<img src=\"img/DW.png\"width=500,height=500/>\n"
      ],
      "text/plain": [
       "<IPython.core.display.HTML object>"
      ]
     },
     "metadata": {},
     "output_type": "display_data"
    }
   ],
   "source": [
    "%%html\n",
    "<img src=\"img/DW.png\"width=500,height=500/>"
   ]
  },
  {
   "cell_type": "markdown",
   "metadata": {},
   "source": [
    "## Difference b/w Vertualization and Containerization"
   ]
  },
  {
   "cell_type": "code",
   "execution_count": 28,
   "metadata": {},
   "outputs": [
    {
     "data": {
      "text/html": [
       "<img src=\"img/VM.png\"width=500,height=500/>\n"
      ],
      "text/plain": [
       "<IPython.core.display.HTML object>"
      ]
     },
     "metadata": {},
     "output_type": "display_data"
    }
   ],
   "source": [
    "%%html\n",
    "<img src=\"img/VM.png\"width=500,height=500/>"
   ]
  },
  {
   "cell_type": "markdown",
   "metadata": {},
   "source": [
    "# Docker Engine"
   ]
  },
  {
   "cell_type": "code",
   "execution_count": null,
   "metadata": {},
   "outputs": [],
   "source": [
    "Docker Engine is an application which follows client-server architecture.It is installed on the host machine.\n",
    "There are three components in the Docker Engine:"
   ]
  },
  {
   "cell_type": "code",
   "execution_count": null,
   "metadata": {},
   "outputs": [],
   "source": [
    "Server: \n",
    "    It is the docker daemon called dockerd. It can create and manage docker images. Containers, networks, etc."
   ]
  },
  {
   "cell_type": "code",
   "execution_count": null,
   "metadata": {},
   "outputs": [],
   "source": [
    "Rest API:  \n",
    "       It is used to instruct docker daemon what to do."
   ]
  },
  {
   "cell_type": "code",
   "execution_count": null,
   "metadata": {},
   "outputs": [],
   "source": [
    "Command Line Interface (CLI): \n",
    "                      It is a client which is used to enter docker commands."
   ]
  },
  {
   "cell_type": "code",
   "execution_count": 34,
   "metadata": {},
   "outputs": [
    {
     "data": {
      "text/html": [
       "<img src=\"img/DE.png\"width=400,height=400/>\n"
      ],
      "text/plain": [
       "<IPython.core.display.HTML object>"
      ]
     },
     "metadata": {},
     "output_type": "display_data"
    }
   ],
   "source": [
    "%%html\n",
    "<img src=\"img/DE.png\"width=400,height=400/>"
   ]
  },
  {
   "cell_type": "markdown",
   "metadata": {},
   "source": [
    "# Docker Architecture"
   ]
  },
  {
   "cell_type": "code",
   "execution_count": null,
   "metadata": {},
   "outputs": [],
   "source": [
    "Docker uses client-server architecture."
   ]
  },
  {
   "cell_type": "code",
   "execution_count": 31,
   "metadata": {},
   "outputs": [
    {
     "data": {
      "text/html": [
       "<img src=\"img/index.png\"width=500,height=500/>\n"
      ],
      "text/plain": [
       "<IPython.core.display.HTML object>"
      ]
     },
     "metadata": {},
     "output_type": "display_data"
    }
   ],
   "source": [
    "%%html\n",
    "<img src=\"img/index.png\"width=500,height=500/>"
   ]
  },
  {
   "cell_type": "markdown",
   "metadata": {},
   "source": [
    "# Some terminologies relates to docker"
   ]
  },
  {
   "cell_type": "code",
   "execution_count": null,
   "metadata": {},
   "outputs": [],
   "source": [
    "* Docker file\n",
    "\n",
    "* Docker images\n",
    "\n",
    "* Docker Containers\n",
    "\n",
    "* Docker Hub / Registry\n",
    "\n",
    "* Docker client\n",
    "\n",
    "* Docker server / daemon\n",
    "\n",
    "* Docker engine"
   ]
  },
  {
   "cell_type": "markdown",
   "metadata": {},
   "source": [
    "# Docker Hub / Registry"
   ]
  },
  {
   "cell_type": "code",
   "execution_count": null,
   "metadata": {},
   "outputs": [],
   "source": [
    "A Docker registry stores Docker images.\n",
    "\n",
    "Docker Hub is a public registry that anyone can use, and Docker is configured to look for images on Docker Hub by default."
   ]
  },
  {
   "cell_type": "markdown",
   "metadata": {},
   "source": [
    "https://hub.docker.com/"
   ]
  },
  {
   "cell_type": "markdown",
   "metadata": {},
   "source": [
    "## Docker Containers"
   ]
  },
  {
   "cell_type": "code",
   "execution_count": null,
   "metadata": {},
   "outputs": [],
   "source": [
    "A container is a runnable instance of an image. \n",
    "we can create, start, stop, move, or delete a container using the Docker API or CLI.\n",
    "we can connect a container to one or more networks, attach storage to it, or even create a new image based on its current state."
   ]
  },
  {
   "cell_type": "markdown",
   "metadata": {},
   "source": [
    "## Install Docker Engine on Ubuntu"
   ]
  },
  {
   "cell_type": "markdown",
   "metadata": {},
   "source": [
    "https://docs.docker.com/engine/install/ubuntu/"
   ]
  },
  {
   "cell_type": "markdown",
   "metadata": {},
   "source": [
    "## Docker Container Commands "
   ]
  },
  {
   "cell_type": "code",
   "execution_count": null,
   "metadata": {},
   "outputs": [],
   "source": [
    "sudo docker version "
   ]
  },
  {
   "cell_type": "code",
   "execution_count": null,
   "metadata": {},
   "outputs": [],
   "source": [
    "## find running container"
   ]
  },
  {
   "cell_type": "code",
   "execution_count": null,
   "metadata": {},
   "outputs": [],
   "source": [
    "sudo docker ps\n",
    "     or\n",
    "sudo docker container ps "
   ]
  },
  {
   "cell_type": "code",
   "execution_count": null,
   "metadata": {},
   "outputs": [],
   "source": [
    "CONTAINER ID        IMAGE               COMMAND             CREATED             STATUS              PORTS               NAMES\n",
    "7b5f30dc99c6        ubuntu              \"/bin/bash\"         3 days ago          Up 8 seconds                            hardcore_jepsen\n"
   ]
  },
  {
   "cell_type": "code",
   "execution_count": 39,
   "metadata": {},
   "outputs": [],
   "source": [
    "## previous run container show"
   ]
  },
  {
   "cell_type": "code",
   "execution_count": null,
   "metadata": {},
   "outputs": [],
   "source": [
    "sudo docker ps -a\n",
    "      or\n",
    "sudo docker container ls -a"
   ]
  },
  {
   "cell_type": "code",
   "execution_count": null,
   "metadata": {},
   "outputs": [],
   "source": [
    "CONTAINER ID        IMAGE               COMMAND                  CREATED             STATUS                    PORTS                                          NAMES\n",
    "7b5f30dc99c6        ubuntu              \"/bin/bash\"              3 days ago          Exited (0) 3 days ago                                                    hardcore_jepsen\n",
    "4ef4a8a8dd48        ubuntu              \"/bin/bash\"              3 days ago          Exited (0) 3 days ago                                                    peaceful_mendeleev\n",
    "40fb18ddd2f8        ubuntu              \"/bin/bash\"              3 days ago          Exited (0) 3 days ago                                                    jovial_davinci\n",
    "5b53baf57b1c        nginx               \"/docker-entrypoint.…\"   3 days ago          Exited (0) 3 days ago                                                    objective_meninsky\n"
   ]
  },
  {
   "cell_type": "code",
   "execution_count": 1,
   "metadata": {},
   "outputs": [],
   "source": [
    "## Remove one or more containers"
   ]
  },
  {
   "cell_type": "code",
   "execution_count": null,
   "metadata": {},
   "outputs": [],
   "source": [
    "sudo docker container rm <8e59e1e99ee4>\n",
    "\n",
    "8e59"
   ]
  },
  {
   "cell_type": "markdown",
   "metadata": {},
   "source": [
    "## Create a first container, list container, remove container"
   ]
  },
  {
   "cell_type": "code",
   "execution_count": null,
   "metadata": {},
   "outputs": [],
   "source": [
    "### create a first container\n",
    "\n",
    "sudo docker run ubuntu:20.10 cat /etc/*release\n",
    "    \n",
    "### Check running container \n",
    "\n",
    "sudo docker container ls"
   ]
  },
  {
   "cell_type": "code",
   "execution_count": null,
   "metadata": {},
   "outputs": [],
   "source": [
    "Unable to find image 'ubuntu:20.10' locally\n",
    "20.10: Pulling from library/ubuntu\n",
    "4278c4af5b59: Pull complete \n",
    "c05b16b3cc63: Pull complete \n",
    "4b3e637c5311: Pull complete \n",
    "b2eb2835f623: Pull complete \n",
    "Digest: sha256:284ae8a9394e94c4406cbacece07f3a1564e45ba44e637815e43a57d509b4f57\n",
    "Status: Downloaded newer image for ubuntu:20.10\n",
    "DISTRIB_ID=Ubuntu\n",
    "DISTRIB_RELEASE=20.10\n",
    "DISTRIB_CODENAME=groovy\n",
    "DISTRIB_DESCRIPTION=\"Ubuntu Groovy Gorilla (development branch)\"\n",
    "NAME=\"Ubuntu\"\n",
    "VERSION=\"20.10 (Groovy Gorilla)\"\n",
    "ID=ubuntu\n",
    "ID_LIKE=debian\n",
    "PRETTY_NAME=\"Ubuntu Groovy Gorilla (development branch)\"\n",
    "VERSION_ID=\"20.10\"\n",
    "HOME_URL=\"https://www.ubuntu.com/\"\n",
    "SUPPORT_URL=\"https://help.ubuntu.com/\"\n",
    "BUG_REPORT_URL=\"https://bugs.launchpad.net/ubuntu/\"\n",
    "PRIVACY_POLICY_URL=\"https://www.ubuntu.com/legal/terms-and-policies/privacy-policy\"\n",
    "VERSION_CODENAME=groovy\n",
    "UBUNTU_CODENAME=groovy\n"
   ]
  },
  {
   "cell_type": "code",
   "execution_count": null,
   "metadata": {},
   "outputs": [],
   "source": [
    "### remove container\n",
    "\n",
    " sudo docker container rm <Container_ID>\n",
    "    \n",
    "### check\n",
    " \n",
    " sudo docker container ls -a"
   ]
  },
  {
   "cell_type": "markdown",
   "metadata": {},
   "source": [
    "## create a container in background, stop,start,detach container"
   ]
  },
  {
   "cell_type": "code",
   "execution_count": null,
   "metadata": {},
   "outputs": [],
   "source": [
    "## Start Container\n",
    " sudo docker start <2ec0d3ca19c0>\n",
    "## check\n",
    "sudo docker ps"
   ]
  },
  {
   "cell_type": "code",
   "execution_count": null,
   "metadata": {},
   "outputs": [],
   "source": [
    "CONTAINER ID        IMAGE               COMMAND                  CREATED             STATUS              PORTS               NAMES\n",
    "5b53baf57b1c        nginx               \"/docker-entrypoint.…\"   3 days ago          Up 18 minutes       80/tcp              objective_meninsky\n",
    "2ec0d3ca19c0        9bac626da564        \"python\"                 5 days ago          Up 8 seconds                            gracious_wu\n"
   ]
  },
  {
   "cell_type": "code",
   "execution_count": null,
   "metadata": {},
   "outputs": [],
   "source": [
    "## Stop Container\n",
    "\n",
    " sudo docker stop <2ec0d3ca19c0>"
   ]
  },
  {
   "cell_type": "code",
   "execution_count": null,
   "metadata": {},
   "outputs": [],
   "source": [
    "CONTAINER ID        IMAGE               COMMAND                  CREATED             STATUS              PORTS               NAMES\n",
    "5b53baf57b1c        nginx               \"/docker-entrypoint.…\"   3 days ago          Up 24 minutes       80/tcp              objective_meninsky\n"
   ]
  },
  {
   "cell_type": "code",
   "execution_count": null,
   "metadata": {},
   "outputs": [],
   "source": [
    "## detach Container\n",
    " \n",
    "sudo docker container run -d ubuntu sleep 50"
   ]
  },
  {
   "cell_type": "code",
   "execution_count": null,
   "metadata": {},
   "outputs": [],
   "source": [
    "CONTAINER ID        IMAGE               COMMAND                  CREATED             STATUS              PORTS               NAMES\n",
    "3f6ed7dd41bc        ubuntu              \"sleep 50\"               17 seconds ago      Up 13 seconds                           beautiful_bouman\n",
    "5b53baf57b1c        nginx               \"/docker-entrypoint.…\"   4 days ago          Up 28 minutes       80/tcp              objective_meninsky\n"
   ]
  },
  {
   "cell_type": "code",
   "execution_count": null,
   "metadata": {},
   "outputs": [],
   "source": [
    "## after 50 sec remove container\n",
    "\n",
    "CONTAINER ID        IMAGE               COMMAND                  CREATED             STATUS              PORTS               NAMES\n",
    "5b53baf57b1c        nginx               \"/docker-entrypoint.…\"   4 days ago          Up 30 minutes       80/tcp              objective_meninsky\n"
   ]
  },
  {
   "cell_type": "markdown",
   "metadata": {},
   "source": [
    "## working inside of container"
   ]
  },
  {
   "cell_type": "code",
   "execution_count": null,
   "metadata": {},
   "outputs": [],
   "source": [
    "## run ubuntu container i.e local host\n",
    "\n",
    "sudo docker container run -it ubuntu /bin/bash"
   ]
  },
  {
   "cell_type": "code",
   "execution_count": null,
   "metadata": {},
   "outputs": [],
   "source": [
    "## inside container\n",
    "\n",
    "root@2bbf468e05ea:/# hostname"
   ]
  },
  {
   "cell_type": "code",
   "execution_count": null,
   "metadata": {},
   "outputs": [],
   "source": [
    "root@2bbf468e05ea:/# cat /etc/os-release"
   ]
  },
  {
   "cell_type": "code",
   "execution_count": null,
   "metadata": {},
   "outputs": [],
   "source": [
    "root@2bbf468e05ea:/# ls"
   ]
  },
  {
   "cell_type": "markdown",
   "metadata": {},
   "source": [
    "# docker container inspact"
   ]
  },
  {
   "cell_type": "code",
   "execution_count": null,
   "metadata": {},
   "outputs": [],
   "source": [
    "##  run container \n",
    "\n",
    "sudo docker container run -d nginx"
   ]
  },
  {
   "cell_type": "code",
   "execution_count": null,
   "metadata": {},
   "outputs": [],
   "source": [
    "## find all detail of container like IP address\n",
    "\n",
    "sudo docker container inspect <C_ID>\n"
   ]
  },
  {
   "cell_type": "code",
   "execution_count": null,
   "metadata": {},
   "outputs": [],
   "source": [
    "\"Networks\": {\n",
    "                \"bridge\": {\n",
    "                    \"IPAMConfig\": null,\n",
    "                    \"Links\": null,\n",
    "                    \"Aliases\": null,\n",
    "                    \"NetworkID\": \"34dcf1084e8de60c6d83ae589570ed43465ba00c58032c07b6e99fd4031ea96e\",\n",
    "                    \"EndpointID\": \"a2c4dcf9e6625f5bc394aa289789b8ce7d8eed9d0b0a5ebd21dd147d3de9031f\",\n",
    "                    \"Gateway\": \"172.17.0.1\",\n",
    "                    \"IPAddress\": \"172.17.0.3\",\n",
    "                    \"IPPrefixLen\": 16,\n",
    "                    \"IPv6Gateway\": \"\",\n",
    "                    \"GlobalIPv6Address\": \"\",\n",
    "                    \"GlobalIPv6PrefixLen\": 0,\n",
    "                    \"MacAddress\": \"02:42:ac:11:00:03\",\n",
    "                    \"DriverOpts\": null\n"
   ]
  },
  {
   "cell_type": "markdown",
   "metadata": {},
   "source": [
    "# what's going on inside container"
   ]
  },
  {
   "cell_type": "code",
   "execution_count": null,
   "metadata": {},
   "outputs": [],
   "source": [
    "## run nginx container \n",
    "\n",
    "sudo docker container run -d nginx"
   ]
  },
  {
   "cell_type": "code",
   "execution_count": null,
   "metadata": {},
   "outputs": [],
   "source": [
    "## see all logs of container\n",
    "\n",
    "sudo docker container logs <C_ID> "
   ]
  },
  {
   "cell_type": "code",
   "execution_count": null,
   "metadata": {},
   "outputs": [],
   "source": [
    "/docker-entrypoint.sh: /docker-entrypoint.d/ is not empty, will attempt to perform configuration\n",
    "/docker-entrypoint.sh: Looking for shell scripts in /docker-entrypoint.d/\n",
    "/docker-entrypoint.sh: Launching /docker-entrypoint.d/10-listen-on-ipv6-by-default.sh\n",
    "10-listen-on-ipv6-by-default.sh: Getting the checksum of /etc/nginx/conf.d/default.conf\n",
    "10-listen-on-ipv6-by-default.sh: Enabled listen on IPv6 in /etc/nginx/conf.d/default.conf\n",
    "/docker-entrypoint.sh: Launching /docker-entrypoint.d/20-envsubst-on-templates.sh\n",
    "/docker-entrypoint.sh: Configuration complete; ready for start up\n",
    "172.17.0.1 - - [08/Jun/2020:05:47:29 +0000] \"GET / HTTP/1.1\" 200 612 \"-\" \"Mozilla/5.0 (X11; Ubuntu; Linux x86_64; rv:76.0) Gecko/20100101 Firefox/76.0\" \"-\"\n",
    "2020/06/08 05:47:29 [error] 28#28: *1 open() \"/usr/share/nginx/html/favicon.ico\" failed (2: No such file or directory), client: 172.17.0.1, server: localhost, request: \"GET /favicon.ico HTTP/1.1\", host: \"172.17.0.3\"\n",
    "172.17.0.1 - - [08/Jun/2020:05:47:29 +0000] \"GET /favicon.ico HTTP/1.1\" 404 153 \"-\" \"Mozilla/5.0 (X11; Ubuntu; Linux x86_64; rv:76.0) Gecko/20100101 Firefox/76.0\" \"-\"\n"
   ]
  },
  {
   "cell_type": "code",
   "execution_count": null,
   "metadata": {},
   "outputs": [],
   "source": [
    "## check ip address of running container\n",
    "ifconfig"
   ]
  },
  {
   "cell_type": "markdown",
   "metadata": {},
   "source": [
    "# how to check container is not a VM"
   ]
  },
  {
   "cell_type": "code",
   "execution_count": null,
   "metadata": {},
   "outputs": [],
   "source": [
    "sudo docker ps\n",
    "\n",
    "## using this commond show what process inside the container\n",
    "\n",
    "sudo docker container top <f98773b1003b>"
   ]
  },
  {
   "cell_type": "code",
   "execution_count": null,
   "metadata": {},
   "outputs": [],
   "source": [
    "UID                 PID                 PPID                C                   STIME               TTY                 TIME                CMD\n",
    "root                6816                6788                0                   11:10               ?                   00:00:00            nginx: master process nginx -g daemon off;\n",
    "systemd+            6881                6816                0                   11:10               ?                   00:00:00            nginx: worker process\n"
   ]
  },
  {
   "cell_type": "code",
   "execution_count": null,
   "metadata": {},
   "outputs": [],
   "source": [
    "## inside docker host machine\n",
    "sudo ps -aux    -> In both machine show same PID"
   ]
  },
  {
   "cell_type": "code",
   "execution_count": null,
   "metadata": {},
   "outputs": [],
   "source": [
    "anurag    6290 17.0 10.1 3042828 386248 tty2   Sl+  11:01   7:29 /usr/lib/firefox/firefox -contentproc -childID 9 -isForBrowser -prefsLen 7704\n",
    "anurag    6384  1.3  1.0 429468 38300 tty2     Sl+  11:04   0:33 /usr/lib/firefox/firefox -contentproc -parentBuildID 20200507114007 -prefsLen\n",
    "root      6788  0.0  0.1 109108  4864 ?        Sl   11:10   0:00 containerd-shim -namespace moby -workdir /var/lib/containerd/io.containerd.ru\n",
    "root      6816  0.0  0.1  10624  5836 ?        Ss   11:10   0:00 nginx: master process nginx -g daemon off;\n",
    "systemd+  6881  0.0  0.0  11020  2648 ?        S    11:10   0:00 nginx: worker process\n"
   ]
  },
  {
   "cell_type": "markdown",
   "metadata": {},
   "source": [
    "### how to show running container MEM/CPU?"
   ]
  },
  {
   "cell_type": "code",
   "execution_count": null,
   "metadata": {},
   "outputs": [],
   "source": [
    "sudo docker container stat"
   ]
  },
  {
   "cell_type": "code",
   "execution_count": null,
   "metadata": {},
   "outputs": [],
   "source": [
    "CONTAINER ID        NAME                 CPU %               MEM USAGE / LIMIT     MEM %               NET I/O             BLOCK I/O           PIDS\n",
    "f98773b1003b        jolly_roentgen       0.00%               2.867MiB / 3.641GiB   0.08%               22kB / 2.15kB       987kB / 8.19kB      2\n",
    "5b53baf57b1c        objective_meninsky   0.00%               3.09MiB / 3.641GiB    0.08%               38.1kB / 0B         9.71MB / 0B         2\n",
    "\n"
   ]
  },
  {
   "cell_type": "markdown",
   "metadata": {},
   "source": [
    "## How to delete all container togather"
   ]
  },
  {
   "cell_type": "code",
   "execution_count": null,
   "metadata": {},
   "outputs": [],
   "source": [
    " ## all Unusefull container\n",
    " \n",
    " sudo docker container ls -aq"
   ]
  },
  {
   "cell_type": "code",
   "execution_count": null,
   "metadata": {},
   "outputs": [],
   "source": [
    "2bbf468e05ea\n",
    "f98773b1003b\n",
    "d811ec824ba8\n",
    "3f6ed7dd41bc\n",
    "db75f994eafe"
   ]
  },
  {
   "cell_type": "raw",
   "metadata": {},
   "source": [
    "sudo docker container rm $(sudo docker container ls -aq)"
   ]
  },
  {
   "cell_type": "code",
   "execution_count": null,
   "metadata": {},
   "outputs": [],
   "source": [
    "3f6ed7dd41bc\n",
    "db75f994eafe\n",
    "57c2cb06f49d\n",
    "7b5f30dc99c6"
   ]
  },
  {
   "cell_type": "code",
   "execution_count": null,
   "metadata": {},
   "outputs": [],
   "source": [
    "# then check\n",
    " sudo docker container ls -a"
   ]
  },
  {
   "cell_type": "markdown",
   "metadata": {},
   "source": [
    "# Docker image"
   ]
  },
  {
   "cell_type": "code",
   "execution_count": null,
   "metadata": {},
   "outputs": [],
   "source": [
    " An image is a read-only template with instructions for creating a Docker container.\n",
    " Often, an image is based on another image, with some additional customization."
   ]
  },
  {
   "cell_type": "code",
   "execution_count": null,
   "metadata": {},
   "outputs": [],
   "source": [
    "container is running instance of image."
   ]
  },
  {
   "cell_type": "code",
   "execution_count": null,
   "metadata": {},
   "outputs": [],
   "source": [
    "A sigle image can be used to create multiple container."
   ]
  },
  {
   "cell_type": "markdown",
   "metadata": {},
   "source": [
    "## Docker image command"
   ]
  },
  {
   "cell_type": "markdown",
   "metadata": {},
   "source": [
    "## Docker histrory"
   ]
  },
  {
   "cell_type": "code",
   "execution_count": null,
   "metadata": {},
   "outputs": [],
   "source": [
    "sudo docker image ls\n",
    "\n",
    "or\n",
    "\n",
    "sudo docker images"
   ]
  },
  {
   "cell_type": "code",
   "execution_count": null,
   "metadata": {},
   "outputs": [],
   "source": [
    "REPOSITORY          TAG                 IMAGE ID            CREATED             SIZE\n",
    "my_test_image       latest              e6d99d005222        3 days ago          73.9MB\n",
    "<none>              <none>              ff814ea11a46        5 days ago          249MB\n",
    "<none>              <none>              8eb4c83f9899        5 days ago          249MB\n",
    "<none>              <none>              bc1d3566fec8        5 days ago          249MB\n",
    "myubuntu            12                  320ee4298997        5 days ago          249MB\n"
   ]
  },
  {
   "cell_type": "code",
   "execution_count": null,
   "metadata": {},
   "outputs": [],
   "source": [
    "sudo docker image history ubuntu:14.04\n"
   ]
  },
  {
   "cell_type": "code",
   "execution_count": null,
   "metadata": {},
   "outputs": [],
   "source": [
    "IMAGE               CREATED             CREATED BY                                      SIZE                COMMENT\n",
    "6e4f1fe62ff1        5 months ago        /bin/sh -c #(nop)  CMD [\"/bin/bash\"]            0B                  \n",
    "<missing>           5 months ago        /bin/sh -c mkdir -p /run/systemd && echo 'do…   7B                  \n",
    "<missing>           5 months ago        /bin/sh -c set -xe   && echo '#!/bin/sh' > /…   195kB               \n",
    "<missing>           5 months ago        /bin/sh -c [ -z \"$(apt-get indextargets)\" ]     0B                  \n",
    "<missing>           5 months ago        /bin/sh -c #(nop) ADD file:276b5d943a4d284f8…   196MB   "
   ]
  },
  {
   "cell_type": "markdown",
   "metadata": {},
   "source": [
    "## pull images"
   ]
  },
  {
   "cell_type": "code",
   "execution_count": null,
   "metadata": {},
   "outputs": [],
   "source": [
    "\n",
    "sudo docker pull redis:alpine"
   ]
  },
  {
   "cell_type": "code",
   "execution_count": null,
   "metadata": {},
   "outputs": [],
   "source": [
    "alpine: Pulling from library/redis\n",
    "df20fa9351a1: Pull complete \n",
    "9b8c029ceab5: Pull complete \n",
    "e983a1eb737a: Pull complete \n",
    "2e09334c25b1: Pull complete \n",
    "cd5f0c28bbb7: Pull complete \n",
    "ff366bbd9e6e: Pull complete \n",
    "Digest: sha256:50ce670996835d83e070a6b26ef168de774333cf6317cd1bad45f84da1421e24\n",
    "Status: Downloaded newer image for redis:alpine\n",
    "docker.io/library/redis:alpine\n"
   ]
  },
  {
   "cell_type": "markdown",
   "metadata": {},
   "source": [
    "## Tag images"
   ]
  },
  {
   "cell_type": "code",
   "execution_count": null,
   "metadata": {},
   "outputs": [],
   "source": [
    "## see both are same ID if delete any one image no affect other"
   ]
  },
  {
   "cell_type": "code",
   "execution_count": null,
   "metadata": {},
   "outputs": [],
   "source": [
    "sudo docker image tag myubuntu:12 anu1602/myubuntu_12\n",
    "\n",
    "and check\n",
    "\n",
    "sudo docker image ls"
   ]
  },
  {
   "cell_type": "code",
   "execution_count": null,
   "metadata": {},
   "outputs": [],
   "source": [
    "anu1602/myubuntu_12   latest              320ee4298997        5 days ago          249MB\n",
    "myubuntu              12                  320ee4298997        5 days ago          249MB\n",
    "nginx                 latest              4392e5dad77d        5 days ago          132MB"
   ]
  },
  {
   "cell_type": "markdown",
   "metadata": {},
   "source": [
    "## push images"
   ]
  },
  {
   "cell_type": "code",
   "execution_count": null,
   "metadata": {},
   "outputs": [],
   "source": [
    "sudo docker push anu1602/myubuntu_12"
   ]
  },
  {
   "cell_type": "code",
   "execution_count": null,
   "metadata": {},
   "outputs": [],
   "source": [
    "## output\n",
    "\n",
    "[sudo] password for anurag: \n",
    "The push refers to repository [docker.io/anu1602/myubuntu_12]\n",
    "d755bf3bf948: Pushed \n",
    "7dd83373f91b: Pushed \n",
    "4e8e0514836e: Pushed \n",
    "1d5bc609a08e: Pushed \n",
    "3da511183950: Mounted from library/ubuntu \n",
    "48dc77435ad5: Mounted from library/ubuntu \n",
    "f2fa9f4cf8fd: Pushed \n",
    "latest: digest: sha256:feee37098969468a9b1b584cedf1496906cb5b53862712a40f0f59db2daac411 size: 1784\n"
   ]
  },
  {
   "cell_type": "code",
   "execution_count": null,
   "metadata": {},
   "outputs": [],
   "source": [
    "sudo docker login"
   ]
  },
  {
   "cell_type": "code",
   "execution_count": null,
   "metadata": {},
   "outputs": [],
   "source": [
    "## output\n",
    "\n",
    "Authenticating with existing credentials...\n",
    "WARNING! Your password will be stored unencrypted in /home/anurag/.docker/config.json.\n",
    "Configure a credential helper to remove this warning. See\n",
    "https://docs.docker.com/engine/reference/commandline/login/#credentials-store\n"
   ]
  },
  {
   "cell_type": "markdown",
   "metadata": {},
   "source": [
    "## How to pull your repositoris image"
   ]
  },
  {
   "cell_type": "code",
   "execution_count": null,
   "metadata": {},
   "outputs": [],
   "source": [
    "docker pull anu1602/myubuntu_12:latest"
   ]
  },
  {
   "cell_type": "code",
   "execution_count": null,
   "metadata": {},
   "outputs": [],
   "source": [
    "WARNING: Error loading config file: /home/anurag/.docker/config.json: stat /home/anurag/.docker/config.json: permission denied\n",
    "latest: Pulling from anu1602/myubuntu_12\n",
    "Digest: sha256:feee37098969468a9b1b584cedf1496906cb5b53862712a40f0f59db2daac411\n",
    "Status: Image is up to date for anu1602/myubuntu_12:latest\n",
    "docker.io/anu1602/myubuntu_12:latest"
   ]
  },
  {
   "cell_type": "code",
   "execution_count": null,
   "metadata": {},
   "outputs": [],
   "source": [
    "sudo docker run -it myubuntu:12 /bin/bash"
   ]
  },
  {
   "cell_type": "code",
   "execution_count": null,
   "metadata": {},
   "outputs": [],
   "source": [
    "root@79135ad94c17:/# ls"
   ]
  },
  {
   "cell_type": "code",
   "execution_count": null,
   "metadata": {},
   "outputs": [],
   "source": []
  }
 ],
 "metadata": {
  "kernelspec": {
   "display_name": "Python 3",
   "language": "python",
   "name": "python3"
  },
  "language_info": {
   "codemirror_mode": {
    "name": "ipython",
    "version": 3
   },
   "file_extension": ".py",
   "mimetype": "text/x-python",
   "name": "python",
   "nbconvert_exporter": "python",
   "pygments_lexer": "ipython3",
   "version": "3.7.6"
  }
 },
 "nbformat": 4,
 "nbformat_minor": 4
}
